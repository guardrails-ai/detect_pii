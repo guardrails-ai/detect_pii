{
 "cells": [
  {
   "cell_type": "code",
   "execution_count": 1,
   "metadata": {},
   "outputs": [
    {
     "name": "stdout",
     "output_type": "stream",
     "text": [
      "THIS IS A TEST (336)-444-5555 that has a phone and wylansford@gmail.com\n",
      "THIS IS A TEST <PHONE_NUMBER> that has a phone and <EMAIL_ADDRESS>\n",
      "outcome='fail' metadata={} error_message='{\"match_string\": [\"(336)-444-5555\", \"wylansford@gmail.com\"], \"violation\": \"DetectPII\", \"error_msg\": \"This text contains PII\", \"fix_value\": null}' fix_value=None\n",
      "outcome='pass' metadata=None value_override=<class 'guardrails.validator_base.PassResult.ValueOverrideSentinel'>\n",
      "outcome='pass' metadata=None value_override=<class 'guardrails.validator_base.PassResult.ValueOverrideSentinel'>\n",
      "second sentence that has wylansford@gmail.com\n",
      "second sentence that has <EMAIL_ADDRESS>\n",
      "outcome='fail' metadata={} error_message='{\"match_string\": [\"wylansford@gmail.com\"], \"violation\": \"DetectPII\", \"error_msg\": \"This text contains PII\", \"fix_value\": null}' fix_value=None\n"
     ]
    }
   ],
   "source": [
    "from main import DetectPII\n",
    "\n",
    "val = DetectPII(pii_entities=\"pii\")\n",
    "print(\n",
    "    val.validate(\n",
    "        \"THIS IS A TEST (336)-444-5555 that has a phone and wylansford@gmail.com\",\n",
    "        metadata={},\n",
    "    )\n",
    ")\n",
    "print(\n",
    "    val.validate(\n",
    "        \"THIS IS A TEST (336)-444-5555 that has a phone. second sentence\", metadata={}\n",
    "    )\n",
    ")\n",
    "print(\n",
    "    val.validate(\n",
    "        \"THIS IS A TEST (336)-444-5555 that has a phone. second sentence. \", metadata={}\n",
    "    )\n",
    ")\n",
    "print(\n",
    "    val.validate(\n",
    "        \"THIS IS A TEST (336)-444-5555 that has a phone. second sentence that has wylansford@gmail.com\",\n",
    "        metadata={},\n",
    "    )\n",
    ")"
   ]
  }
 ],
 "metadata": {
  "kernelspec": {
   "display_name": ".venv",
   "language": "python",
   "name": "python3"
  },
  "language_info": {
   "codemirror_mode": {
    "name": "ipython",
    "version": 3
   },
   "file_extension": ".py",
   "mimetype": "text/x-python",
   "name": "python",
   "nbconvert_exporter": "python",
   "pygments_lexer": "ipython3",
   "version": "3.10.3"
  }
 },
 "nbformat": 4,
 "nbformat_minor": 2
}
